{
 "cells": [
  {
   "cell_type": "code",
   "execution_count": null,
   "id": "68d222a0",
   "metadata": {},
   "outputs": [],
   "source": [
    "daftar_dictionary = {1: 10, 2: 20, 3: 30, 4: 40, 5: 50, 6: 60}\n",
    "\n",
    "Nilai_keys = daftar_dictionary.keys()\n",
    "Nilai_values = daftar_dictionary.values()\n",
    "Nilai_items = daftar_dictionary.items()\n",
    "\n",
    "keys = list(Nilai_keys)\n",
    "values = list(Nilai_values)\n",
    "items = list(Nilai_items)\n",
    "\n",
    "print(\"key\\tvalue\\tItem\")\n",
    "for i in range(len(keys)):\n",
    "    print(f\"{keys[i]}\\t{values[i]}\\t{items[i][0]}\")"
   ]
  },
  {
   "cell_type": "code",
   "execution_count": null,
   "id": "19dbd23d",
   "metadata": {},
   "outputs": [],
   "source": [
    "#Data List :\n",
    "List_a = ['red', 'green', 'blue']\n",
    "List_b = ['#FF0000','#008000', '#0000FF']\n",
    "hasil = dict()\n",
    "for i in range(len(List_a)):\n",
    "    hasil[List_a[i]] = List_b[i]\n",
    "print(hasil)"
   ]
  },
  {
   "cell_type": "code",
   "execution_count": null,
   "id": "ecf137c1",
   "metadata": {},
   "outputs": [],
   "source": [
    "nama = input(\"Masukkan Nama File \\n >> \")\n",
    "try:\n",
    "    Buka = open(nama)\n",
    "except:\n",
    "    print(f'Fie tidak bisa dibuka !!, dengan nama file yaitu {nama}.txt')\n",
    "    exit()  \n",
    "email = dict()\n",
    "for i in Buka:\n",
    "    if i.startswith(\"From \"):\n",
    "        Pemisah = i.split()\n",
    "        emailnya = Pemisah[1]\n",
    "        if emailnya in email:\n",
    "            email[emailnya] += 1\n",
    "        else:\n",
    "            email[emailnya] = 1\n",
    "print(email)"
   ]
  },
  {
   "cell_type": "code",
   "execution_count": null,
   "id": "3ed95afd",
   "metadata": {},
   "outputs": [],
   "source": [
    "nama = input(\"Masukkan Nama File \\n >> \")\n",
    "try:\n",
    "    buka = open(nama)\n",
    "except:\n",
    "    print(f'Fie tidak bisa dibuka !!, dengan nama file yaitu {nama}.txt')\n",
    "    exit()\n",
    "email = dict()\n",
    "for i in buka:\n",
    "    if i.startswith(\"From \"):\n",
    "        Pemisah = i.split()\n",
    "        emailnya = Pemisah[1]\n",
    "        emailnya = emailnya.split(\"@\")\n",
    "        emailnya = emailnya[1]\n",
    "        if emailnya in email:\n",
    "            email[emailnya] += 1\n",
    "        else:\n",
    "            email[emailnya] = 1\n",
    "print(email)"
   ]
  }
 ],
 "metadata": {
  "kernelspec": {
   "display_name": "Python 3 (ipykernel)",
   "language": "python",
   "name": "python3"
  },
  "language_info": {
   "codemirror_mode": {
    "name": "ipython",
    "version": 3
   },
   "file_extension": ".py",
   "mimetype": "text/x-python",
   "name": "python",
   "nbconvert_exporter": "python",
   "pygments_lexer": "ipython3",
   "version": "3.11.5"
  }
 },
 "nbformat": 4,
 "nbformat_minor": 5
}
